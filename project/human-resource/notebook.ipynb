{
    "cells": [
        {
            "cell_type": "markdown",
            "metadata": {},
            "source": [
                "# Proyek Akhir: Menyelesaikan Permasalahan Human Resources"
            ]
        },
        {
            "cell_type": "markdown",
            "metadata": {},
            "source": [
                "- Nama: Steven Faustin Orginata\n",
                "- Email: stevenfo0711@gmail.com\n",
                "- Id Dicoding: steven-fo"
            ]
        },
        {
            "cell_type": "markdown",
            "metadata": {},
            "source": [
                "## Persiapan"
            ]
        },
        {
            "cell_type": "markdown",
            "metadata": {},
            "source": [
                "### Menyiapkan library yang dibutuhkan"
            ]
        },
        {
            "cell_type": "code",
            "execution_count": 1,
            "metadata": {},
            "outputs": [],
            "source": [
                "import pandas as pd"
            ]
        },
        {
            "cell_type": "markdown",
            "metadata": {},
            "source": [
                "### Menyiapkan data yang akan diguankan"
            ]
        },
        {
            "cell_type": "code",
            "execution_count": null,
            "metadata": {},
            "outputs": [],
            "source": [
                "df = pd.read_csv('data/employee_data.csv')\n",
                "df.head()"
            ]
        },
        {
            "cell_type": "markdown",
            "metadata": {},
            "source": [
                "## Data Understanding"
            ]
        },
        {
            "cell_type": "code",
            "execution_count": 5,
            "metadata": {},
            "outputs": [
                {
                    "data": {
                        "text/plain": [
                            "(1470, 35)"
                        ]
                    },
                    "execution_count": 5,
                    "metadata": {},
                    "output_type": "execute_result"
                }
            ],
            "source": [
                "df.shape"
            ]
        },
        {
            "cell_type": "code",
            "execution_count": 3,
            "metadata": {},
            "outputs": [
                {
                    "data": {
                        "text/plain": [
                            "Index(['EmployeeId', 'Age', 'Attrition', 'BusinessTravel', 'DailyRate',\n",
                            "       'Department', 'DistanceFromHome', 'Education', 'EducationField',\n",
                            "       'EmployeeCount', 'EnvironmentSatisfaction', 'Gender', 'HourlyRate',\n",
                            "       'JobInvolvement', 'JobLevel', 'JobRole', 'JobSatisfaction',\n",
                            "       'MaritalStatus', 'MonthlyIncome', 'MonthlyRate', 'NumCompaniesWorked',\n",
                            "       'Over18', 'OverTime', 'PercentSalaryHike', 'PerformanceRating',\n",
                            "       'RelationshipSatisfaction', 'StandardHours', 'StockOptionLevel',\n",
                            "       'TotalWorkingYears', 'TrainingTimesLastYear', 'WorkLifeBalance',\n",
                            "       'YearsAtCompany', 'YearsInCurrentRole', 'YearsSinceLastPromotion',\n",
                            "       'YearsWithCurrManager'],\n",
                            "      dtype='object')"
                        ]
                    },
                    "execution_count": 3,
                    "metadata": {},
                    "output_type": "execute_result"
                }
            ],
            "source": [
                "df.columns"
            ]
        },
        {
            "cell_type": "code",
            "execution_count": 4,
            "metadata": {},
            "outputs": [
                {
                    "name": "stdout",
                    "output_type": "stream",
                    "text": [
                        "<class 'pandas.core.frame.DataFrame'>\n",
                        "RangeIndex: 1470 entries, 0 to 1469\n",
                        "Data columns (total 35 columns):\n",
                        " #   Column                    Non-Null Count  Dtype  \n",
                        "---  ------                    --------------  -----  \n",
                        " 0   EmployeeId                1470 non-null   int64  \n",
                        " 1   Age                       1470 non-null   int64  \n",
                        " 2   Attrition                 1058 non-null   float64\n",
                        " 3   BusinessTravel            1470 non-null   object \n",
                        " 4   DailyRate                 1470 non-null   int64  \n",
                        " 5   Department                1470 non-null   object \n",
                        " 6   DistanceFromHome          1470 non-null   int64  \n",
                        " 7   Education                 1470 non-null   int64  \n",
                        " 8   EducationField            1470 non-null   object \n",
                        " 9   EmployeeCount             1470 non-null   int64  \n",
                        " 10  EnvironmentSatisfaction   1470 non-null   int64  \n",
                        " 11  Gender                    1470 non-null   object \n",
                        " 12  HourlyRate                1470 non-null   int64  \n",
                        " 13  JobInvolvement            1470 non-null   int64  \n",
                        " 14  JobLevel                  1470 non-null   int64  \n",
                        " 15  JobRole                   1470 non-null   object \n",
                        " 16  JobSatisfaction           1470 non-null   int64  \n",
                        " 17  MaritalStatus             1470 non-null   object \n",
                        " 18  MonthlyIncome             1470 non-null   int64  \n",
                        " 19  MonthlyRate               1470 non-null   int64  \n",
                        " 20  NumCompaniesWorked        1470 non-null   int64  \n",
                        " 21  Over18                    1470 non-null   object \n",
                        " 22  OverTime                  1470 non-null   object \n",
                        " 23  PercentSalaryHike         1470 non-null   int64  \n",
                        " 24  PerformanceRating         1470 non-null   int64  \n",
                        " 25  RelationshipSatisfaction  1470 non-null   int64  \n",
                        " 26  StandardHours             1470 non-null   int64  \n",
                        " 27  StockOptionLevel          1470 non-null   int64  \n",
                        " 28  TotalWorkingYears         1470 non-null   int64  \n",
                        " 29  TrainingTimesLastYear     1470 non-null   int64  \n",
                        " 30  WorkLifeBalance           1470 non-null   int64  \n",
                        " 31  YearsAtCompany            1470 non-null   int64  \n",
                        " 32  YearsInCurrentRole        1470 non-null   int64  \n",
                        " 33  YearsSinceLastPromotion   1470 non-null   int64  \n",
                        " 34  YearsWithCurrManager      1470 non-null   int64  \n",
                        "dtypes: float64(1), int64(26), object(8)\n",
                        "memory usage: 402.1+ KB\n"
                    ]
                }
            ],
            "source": [
                "df.info()"
            ]
        },
        {
            "cell_type": "code",
            "execution_count": 7,
            "metadata": {},
            "outputs": [
                {
                    "data": {
                        "text/plain": [
                            "EmployeeId                    0\n",
                            "Age                           0\n",
                            "Attrition                   412\n",
                            "BusinessTravel                0\n",
                            "DailyRate                     0\n",
                            "Department                    0\n",
                            "DistanceFromHome              0\n",
                            "Education                     0\n",
                            "EducationField                0\n",
                            "EmployeeCount                 0\n",
                            "EnvironmentSatisfaction       0\n",
                            "Gender                        0\n",
                            "HourlyRate                    0\n",
                            "JobInvolvement                0\n",
                            "JobLevel                      0\n",
                            "JobRole                       0\n",
                            "JobSatisfaction               0\n",
                            "MaritalStatus                 0\n",
                            "MonthlyIncome                 0\n",
                            "MonthlyRate                   0\n",
                            "NumCompaniesWorked            0\n",
                            "Over18                        0\n",
                            "OverTime                      0\n",
                            "PercentSalaryHike             0\n",
                            "PerformanceRating             0\n",
                            "RelationshipSatisfaction      0\n",
                            "StandardHours                 0\n",
                            "StockOptionLevel              0\n",
                            "TotalWorkingYears             0\n",
                            "TrainingTimesLastYear         0\n",
                            "WorkLifeBalance               0\n",
                            "YearsAtCompany                0\n",
                            "YearsInCurrentRole            0\n",
                            "YearsSinceLastPromotion       0\n",
                            "YearsWithCurrManager          0\n",
                            "dtype: int64"
                        ]
                    },
                    "execution_count": 7,
                    "metadata": {},
                    "output_type": "execute_result"
                }
            ],
            "source": [
                "df.isna().sum()"
            ]
        },
        {
            "cell_type": "markdown",
            "metadata": {},
            "source": [
                "## Data Preparation / Preprocessing"
            ]
        },
        {
            "cell_type": "code",
            "execution_count": null,
            "metadata": {},
            "outputs": [],
            "source": []
        },
        {
            "cell_type": "markdown",
            "metadata": {},
            "source": [
                "## Modeling"
            ]
        },
        {
            "cell_type": "code",
            "execution_count": null,
            "metadata": {},
            "outputs": [],
            "source": []
        },
        {
            "cell_type": "markdown",
            "metadata": {},
            "source": [
                "## Evaluation"
            ]
        },
        {
            "cell_type": "code",
            "execution_count": null,
            "metadata": {},
            "outputs": [],
            "source": []
        }
    ],
    "metadata": {
        "kernelspec": {
            "display_name": "Python 3",
            "language": "python",
            "name": "python3"
        },
        "language_info": {
            "codemirror_mode": {
                "name": "ipython",
                "version": 3
            },
            "file_extension": ".py",
            "mimetype": "text/x-python",
            "name": "python",
            "nbconvert_exporter": "python",
            "pygments_lexer": "ipython3",
            "version": "3.10.4"
        },
        "orig_nbformat": 4
    },
    "nbformat": 4,
    "nbformat_minor": 2
}
